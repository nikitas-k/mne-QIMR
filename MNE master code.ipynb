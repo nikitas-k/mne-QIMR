{
 "cells": [
  {
   "cell_type": "markdown",
   "metadata": {},
   "source": [
    "# Set the filename"
   ]
  },
  {
   "cell_type": "code",
   "execution_count": 1,
   "metadata": {
    "collapsed": true
   },
   "outputs": [],
   "source": [
    "import Tkinter\n",
    "import tkFileDialog\n",
    "root = Tkinter.Tk()\n",
    "filename = tkFileDialog.askopenfilename(parent=root, initialdir='/', \n",
    "                                    title='Please select your EEG file')\n",
    "root.destroy()\n"
   ]
  },
  {
   "cell_type": "markdown",
   "metadata": {},
   "source": [
    "## Import the packages"
   ]
  },
  {
   "cell_type": "code",
   "execution_count": 2,
   "metadata": {
    "collapsed": true
   },
   "outputs": [],
   "source": [
    "import mne\n",
    "import scipy\n",
    "import numpy\n",
    "import matplotlib\n",
    "matplotlib.use('Qt5Agg')\n",
    "\n"
   ]
  },
  {
   "cell_type": "markdown",
   "metadata": {},
   "source": [
    "# Import Data\n",
    "\n",
    "Now we will try to get some data in the memory!\n"
   ]
  },
  {
   "cell_type": "code",
   "execution_count": 3,
   "metadata": {},
   "outputs": [
    {
     "name": "stdout",
     "output_type": "stream",
     "text": [
      "Data will be preloaded. preload=False or a string preload is not supported when the data is stored in the .set file\n"
     ]
    },
    {
     "name": "stderr",
     "output_type": "stream",
     "text": [
      "<ipython-input-3-52a8694a66f2>:1: RuntimeWarning: Data will be preloaded. preload=False or a string preload is not supported when the data is stored in the .set file\n",
      "  raw=mne.io.read_raw_eeglab(filename)\n"
     ]
    }
   ],
   "source": [
    "raw=mne.io.read_raw_eeglab(filename)\n"
   ]
  },
  {
   "cell_type": "code",
   "execution_count": 4,
   "metadata": {},
   "outputs": [
    {
     "name": "stdout",
     "output_type": "stream",
     "text": [
      "<RawEEGLAB  |  None, n_channels x n_times : 258 x 107996 (432.0 sec), ~213.1 MB, data loaded>\n",
      "<Info | 16 non-empty fields\n",
      "    bads : list | 0 items\n",
      "    buffer_size_sec : float | 1.0\n",
      "    ch_names : list | E1, E2, E3, E4, E5, E6, E7, E8, E9, ...\n",
      "    chs : list | 258 items (EEG: 257, STIM: 1)\n",
      "    comps : list | 0 items\n",
      "    custom_ref_applied : bool | False\n",
      "    dev_head_t : 'mne.transforms.Transform | 3 items\n",
      "    events : list | 0 items\n",
      "    highpass : float | 0.0 Hz\n",
      "    hpi_meas : list | 0 items\n",
      "    hpi_results : list | 0 items\n",
      "    lowpass : float | 125.0 Hz\n",
      "    meas_date : numpy.ndarray | 1970-01-01 10:00:00\n",
      "    nchan : int | 258\n",
      "    projs : list | 0 items\n",
      "    sfreq : float | 250.0 Hz\n",
      "    acq_pars : NoneType\n",
      "    acq_stim : NoneType\n",
      "    ctf_head_t : NoneType\n",
      "    description : NoneType\n",
      "    dev_ctf_t : NoneType\n",
      "    dig : NoneType\n",
      "    experimenter : NoneType\n",
      "    file_id : NoneType\n",
      "    hpi_subsystem : NoneType\n",
      "    kit_system_id : NoneType\n",
      "    line_freq : NoneType\n",
      "    meas_id : NoneType\n",
      "    proj_id : NoneType\n",
      "    proj_name : NoneType\n",
      "    subject_info : NoneType\n",
      "    xplotter_layout : NoneType\n",
      ">\n"
     ]
    }
   ],
   "source": [
    "print(raw)\n",
    "print(raw.info)"
   ]
  },
  {
   "cell_type": "code",
   "execution_count": 5,
   "metadata": {
    "scrolled": true
   },
   "outputs": [
    {
     "name": "stdout",
     "output_type": "stream",
     "text": [
      "[u'E1', u'E2', u'E3', u'E4', u'E5', u'E6', u'E7', u'E8', u'E9', u'E10', u'E11', u'E12', u'E13', u'E14', u'E15', u'E16', u'E17', u'E18', u'E19', u'E20', u'E21', u'E22', u'E23', u'E24', u'E25', u'E26', u'E27', u'E28', u'E29', u'E30', u'E31', u'E32', u'E33', u'E34', u'E35', u'E36', u'E37', u'E38', u'E39', u'E40', u'E41', u'E42', u'E43', u'E44', u'E45', u'E46', u'E47', u'E48', u'E49', u'E50', u'E51', u'E52', u'E53', u'E54', u'E55', u'E56', u'E57', u'E58', u'E59', u'E60', u'E61', u'E62', u'E63', u'E64', u'E65', u'E66', u'E67', u'E68', u'E69', u'E70', u'E71', u'E72', u'E73', u'E74', u'E75', u'E76', u'E77', u'E78', u'E79', u'E80', u'E81', u'E82', u'E83', u'E84', u'E85', u'E86', u'E87', u'E88', u'E89', u'E90', u'E91', u'E92', u'E93', u'E94', u'E95', u'E96', u'E97', u'E98', u'E99', u'E100', u'E101', u'E102', u'E103', u'E104', u'E105', u'E106', u'E107', u'E108', u'E109', u'E110', u'E111', u'E112', u'E113', u'E114', u'E115', u'E116', u'E117', u'E118', u'E119', u'E120', u'E121', u'E122', u'E123', u'E124', u'E125', u'E126', u'E127', u'E128', u'E129', u'E130', u'E131', u'E132', u'E133', u'E134', u'E135', u'E136', u'E137', u'E138', u'E139', u'E140', u'E141', u'E142', u'E143', u'E144', u'E145', u'E146', u'E147', u'E148', u'E149', u'E150', u'E151', u'E152', u'E153', u'E154', u'E155', u'E156', u'E157', u'E158', u'E159', u'E160', u'E161', u'E162', u'E163', u'E164', u'E165', u'E166', u'E167', u'E168', u'E169', u'E170', u'E171', u'E172', u'E173', u'E174', u'E175', u'E176', u'E177', u'E178', u'E179', u'E180', u'E181', u'E182', u'E183', u'E184', u'E185', u'E186', u'E187', u'E188', u'E189', u'E190', u'E191', u'E192', u'E193', u'E194', u'E195', u'E196', u'E197', u'E198', u'E199', u'E200', u'E201', u'E202', u'E203', u'E204', u'E205', u'E206', u'E207', u'E208', u'E209', u'E210', u'E211', u'E212', u'E213', u'E214', u'E215', u'E216', u'E217', u'E218', u'E219', u'E220', u'E221', u'E222', u'E223', u'E224', u'E225', u'E226', u'E227', u'E228', u'E229', u'E230', u'E231', u'E232', u'E233', u'E234', u'E235', u'E236', u'E237', u'E238', u'E239', u'E240', u'E241', u'E242', u'E243', u'E244', u'E245', u'E246', u'E247', u'E248', u'E249', u'E250', u'E251', u'E252', u'E253', u'E254', u'E255', u'E256', u'REF', 'STI 014']\n"
     ]
    }
   ],
   "source": [
    "print(raw.ch_names)"
   ]
  },
  {
   "cell_type": "code",
   "execution_count": 6,
   "metadata": {
    "scrolled": true
   },
   "outputs": [
    {
     "name": "stdout",
     "output_type": "stream",
     "text": [
      "Adding average EEG reference projection.\n",
      "1 projection items deactivated\n",
      "Average reference projection was added, but hasn't been applied yet. Use the .apply_proj() method function to apply projections.\n",
      "Created an SSP operator (subspace dimension = 1)\n",
      "1 projection items activated\n",
      "SSP projectors applied...\n"
     ]
    },
    {
     "data": {
      "text/plain": [
       "<RawEEGLAB  |  None, n_channels x n_times : 258 x 107996 (432.0 sec), ~213.1 MB, data loaded>"
      ]
     },
     "execution_count": 6,
     "metadata": {},
     "output_type": "execute_result"
    }
   ],
   "source": [
    "raw.set_eeg_reference()\n",
    "raw.apply_proj()"
   ]
  },
  {
   "cell_type": "markdown",
   "metadata": {},
   "source": [
    "## Plot raw data"
   ]
  },
  {
   "cell_type": "code",
   "execution_count": 7,
   "metadata": {},
   "outputs": [
    {
     "data": {
      "text/plain": [
       "<matplotlib.figure.Figure at 0x11ffbecd0>"
      ]
     },
     "execution_count": 7,
     "metadata": {},
     "output_type": "execute_result"
    }
   ],
   "source": [
    "raw.plot(show_options=True)"
   ]
  },
  {
   "cell_type": "markdown",
   "metadata": {},
   "source": [
    "#### Removing bad channels"
   ]
  },
  {
   "cell_type": "code",
   "execution_count": 11,
   "metadata": {
    "collapsed": true
   },
   "outputs": [],
   "source": [
    "#raw.info['bads'] ="
   ]
  },
  {
   "cell_type": "code",
   "execution_count": 12,
   "metadata": {
    "collapsed": true
   },
   "outputs": [],
   "source": [
    "picks = mne.pick_types(raw.info, meg=True, eeg=True, eog=True, stim=False,\n",
    "                      exclude='bads')"
   ]
  },
  {
   "cell_type": "markdown",
   "metadata": {},
   "source": [
    "#### Define peak-to-peak rejection parameters for EEG"
   ]
  },
  {
   "cell_type": "code",
   "execution_count": 13,
   "metadata": {
    "collapsed": true
   },
   "outputs": [],
   "source": [
    "reject = dict(eeg=80e-6)"
   ]
  },
  {
   "cell_type": "markdown",
   "metadata": {},
   "source": [
    "#### Define baseline period"
   ]
  },
  {
   "cell_type": "code",
   "execution_count": 14,
   "metadata": {
    "collapsed": true
   },
   "outputs": [],
   "source": [
    "baseline = (None, 0) ##from the first instant to t = 0"
   ]
  },
  {
   "cell_type": "markdown",
   "metadata": {},
   "source": [
    "#### Define and read epochs"
   ]
  },
  {
   "cell_type": "code",
   "execution_count": 15,
   "metadata": {},
   "outputs": [
    {
     "name": "stdout",
     "output_type": "stream",
     "text": [
      "Removing orphaned offset at the beginning of the file.\n",
      "2 events found\n",
      "Events id: [137]\n"
     ]
    }
   ],
   "source": [
    "event_id = 137 #event trigger and conditions\n",
    "tmin = -0.2 #start of each epoch (200 ms before the trigger)\n",
    "tmax = 0.5 #end of each epoch (500 ms after the trigger)\n",
    "events = mne.find_events(raw, min_duration=0.005, stim_channel='STI 014')"
   ]
  },
  {
   "cell_type": "code",
   "execution_count": 16,
   "metadata": {},
   "outputs": [
    {
     "name": "stdout",
     "output_type": "stream",
     "text": [
      "2 matching events found\n",
      "Created an SSP operator (subspace dimension = 1)\n",
      "1 projection items activated\n"
     ]
    }
   ],
   "source": [
    "epochs = mne.Epochs(raw, events, event_id, tmin, tmax, proj=True,\n",
    "                    picks=picks, baseline=baseline, preload=False, reject=reject)"
   ]
  },
  {
   "cell_type": "markdown",
   "metadata": {
    "collapsed": true
   },
   "source": [
    "#### Evoked data (average)"
   ]
  },
  {
   "cell_type": "code",
   "execution_count": 17,
   "metadata": {},
   "outputs": [
    {
     "name": "stdout",
     "output_type": "stream",
     "text": [
      "    Rejecting  epoch based on EEG : [u'E2', u'E3', u'E4', u'E10', u'E11', u'E12', u'E18', u'E37', u'E38', u'E39', u'E40', u'E41', u'E46', u'E47', u'E48', u'E49', u'E50', u'E54', u'E55', u'E56', u'E57', u'E61', u'E62', u'E63', u'E68', u'E69', u'E83', u'E93', u'E94', u'E95', u'E96', u'E104', u'E105', u'E106', u'E114', u'E115', u'E116', u'E165', u'E166', u'E169', u'E175', u'E177', u'E183', u'E187', u'E195', u'E196', u'E203', u'E204', u'E205', u'E206', u'E212', u'E213', u'E214', u'E218', u'E220', u'E222', u'E223', u'E224', u'E226', u'E230', u'E233', u'E238', u'E240', u'E241', u'E243', u'E244', u'E245', u'E246', u'E248', u'E249', u'E250', u'E252', u'E254']\n",
      "    Rejecting  epoch based on EEG : [u'E1', u'E2', u'E3', u'E4', u'E5', u'E10', u'E11', u'E12', u'E13', u'E14', u'E15', u'E18', u'E19', u'E20', u'E21', u'E22', u'E23', u'E25', u'E26', u'E27', u'E28', u'E29', u'E30', u'E31', u'E32', u'E33', u'E34', u'E35', u'E37', u'E38', u'E39', u'E40', u'E41', u'E42', u'E43', u'E46', u'E47', u'E48', u'E49', u'E50', u'E51', u'E52', u'E54', u'E55', u'E56', u'E57', u'E58', u'E59', u'E61', u'E62', u'E63', u'E64', u'E65', u'E66', u'E67', u'E68', u'E69', u'E70', u'E71', u'E72', u'E73', u'E74', u'E75', u'E76', u'E77', u'E78', u'E82', u'E83', u'E84', u'E85', u'E86', u'E87', u'E89', u'E91', u'E92', u'E93', u'E94', u'E95', u'E96', u'E97', u'E98', u'E100', u'E101', u'E104', u'E105', u'E106', u'E107', u'E108', u'E109', u'E110', u'E114', u'E115', u'E116', u'E117', u'E118', u'E119', u'E125', u'E126', u'E127', u'E128', u'E137', u'E138', u'E139', u'E140', u'E141', u'E148', u'E149', u'E150', u'E151', u'E157', u'E158', u'E159', u'E160', u'E165', u'E166', u'E168', u'E169', u'E170', u'E174', u'E175', u'E177', u'E187', u'E194', u'E195', u'E196', u'E197', u'E199', u'E202', u'E203', u'E204', u'E205', u'E206', u'E211', u'E212', u'E213', u'E214', u'E216', u'E218', u'E219', u'E220', u'E222', u'E223', u'E224', u'E225', u'E226', u'E227', u'E230', u'E231', u'E232', u'E233', u'E234', u'E235', u'E236', u'E237', u'E239', u'E240', u'E241', u'E243', u'E246', u'E247', u'E249', u'E250', u'E252', u'E253', u'E254', u'E256']\n",
      "evoked object is empty (based on less than 1 epoch)\n"
     ]
    },
    {
     "name": "stderr",
     "output_type": "stream",
     "text": [
      "<ipython-input-17-b66924594c90>:1: RuntimeWarning: evoked object is empty (based on less than 1 epoch)\n",
      "  evoked = epochs.average()\n"
     ]
    }
   ],
   "source": [
    "evoked = epochs.average()"
   ]
  },
  {
   "cell_type": "code",
   "execution_count": null,
   "metadata": {
    "collapsed": true
   },
   "outputs": [],
   "source": []
  }
 ],
 "metadata": {
  "kernelspec": {
   "display_name": "Python 2",
   "language": "python",
   "name": "python2"
  },
  "language_info": {
   "codemirror_mode": {
    "name": "ipython",
    "version": 2
   },
   "file_extension": ".py",
   "mimetype": "text/x-python",
   "name": "python",
   "nbconvert_exporter": "python",
   "pygments_lexer": "ipython2",
   "version": "2.7.13"
  }
 },
 "nbformat": 4,
 "nbformat_minor": 2
}
