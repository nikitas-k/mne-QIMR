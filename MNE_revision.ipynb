{
 "cells": [
  {
   "cell_type": "markdown",
   "metadata": {},
   "source": [
    "#### --coding: utf-8--"
   ]
  },
  {
   "cell_type": "markdown",
   "metadata": {},
   "source": [
    "## Import the data"
   ]
  },
  {
   "cell_type": "code",
   "execution_count": 1,
   "metadata": {
    "collapsed": true
   },
   "outputs": [],
   "source": [
    "import Tkinter\n",
    "import tkFileDialog\n",
    "root = Tkinter.Tk()\n",
    "filename = tkFileDialog.askopenfilename(parent=root, initialdir='/users/nikitaskoussis/Dropbox/Science/PVB304/Article', \n",
    "                                    title='Please select your EEG file')\n",
    "root.destroy()"
   ]
  },
  {
   "cell_type": "markdown",
   "metadata": {},
   "source": [
    "## Import the relevant libraries"
   ]
  },
  {
   "cell_type": "code",
   "execution_count": 2,
   "metadata": {
    "collapsed": true
   },
   "outputs": [],
   "source": [
    "import mne\n",
    "import scipy\n",
    "import numpy \n",
    "import matplotlib\n",
    "matplotlib.use('Qt5Agg')"
   ]
  },
  {
   "cell_type": "markdown",
   "metadata": {},
   "source": [
    "## Read the raw file"
   ]
  },
  {
   "cell_type": "code",
   "execution_count": 3,
   "metadata": {},
   "outputs": [
    {
     "name": "stdout",
     "output_type": "stream",
     "text": [
      "Data will be preloaded. preload=False or a string preload is not supported when the data is stored in the .set file\n"
     ]
    },
    {
     "name": "stderr",
     "output_type": "stream",
     "text": [
      "<ipython-input-3-c48fac2ac63b>:1: RuntimeWarning: Data will be preloaded. preload=False or a string preload is not supported when the data is stored in the .set file\n",
      "  raw = mne.io.read_raw_eeglab(filename)\n"
     ]
    },
    {
     "name": "stdout",
     "output_type": "stream",
     "text": [
      "<RawEEGLAB  |  None, n_channels x n_times : 258 x 107996 (432.0 sec), ~213.1 MB, data loaded>\n",
      "<Info | 16 non-empty fields\n",
      "    bads : list | 0 items\n",
      "    buffer_size_sec : float | 1.0\n",
      "    ch_names : list | E1, E2, E3, E4, E5, E6, E7, E8, E9, ...\n",
      "    chs : list | 258 items (EEG: 257, STIM: 1)\n",
      "    comps : list | 0 items\n",
      "    custom_ref_applied : bool | False\n",
      "    dev_head_t : 'mne.transforms.Transform | 3 items\n",
      "    events : list | 0 items\n",
      "    highpass : float | 0.0 Hz\n",
      "    hpi_meas : list | 0 items\n",
      "    hpi_results : list | 0 items\n",
      "    lowpass : float | 125.0 Hz\n",
      "    meas_date : numpy.ndarray | 1970-01-01 10:00:00\n",
      "    nchan : int | 258\n",
      "    projs : list | 0 items\n",
      "    sfreq : float | 250.0 Hz\n",
      "    acq_pars : NoneType\n",
      "    acq_stim : NoneType\n",
      "    ctf_head_t : NoneType\n",
      "    description : NoneType\n",
      "    dev_ctf_t : NoneType\n",
      "    dig : NoneType\n",
      "    experimenter : NoneType\n",
      "    file_id : NoneType\n",
      "    hpi_subsystem : NoneType\n",
      "    kit_system_id : NoneType\n",
      "    line_freq : NoneType\n",
      "    meas_id : NoneType\n",
      "    proj_id : NoneType\n",
      "    proj_name : NoneType\n",
      "    subject_info : NoneType\n",
      "    xplotter_layout : NoneType\n",
      ">\n"
     ]
    }
   ],
   "source": [
    "raw = mne.io.read_raw_eeglab(filename)\n",
    "print(raw)\n",
    "print(raw.info)"
   ]
  },
  {
   "cell_type": "code",
   "execution_count": 4,
   "metadata": {},
   "outputs": [
    {
     "name": "stdout",
     "output_type": "stream",
     "text": [
      "[u'E1', u'E2', u'E3', u'E4', u'E5', u'E6', u'E7', u'E8', u'E9', u'E10', u'E11', u'E12', u'E13', u'E14', u'E15', u'E16', u'E17', u'E18', u'E19', u'E20', u'E21', u'E22', u'E23', u'E24', u'E25', u'E26', u'E27', u'E28', u'E29', u'E30', u'E31', u'E32', u'E33', u'E34', u'E35', u'E36', u'E37', u'E38', u'E39', u'E40', u'E41', u'E42', u'E43', u'E44', u'E45', u'E46', u'E47', u'E48', u'E49', u'E50', u'E51', u'E52', u'E53', u'E54', u'E55', u'E56', u'E57', u'E58', u'E59', u'E60', u'E61', u'E62', u'E63', u'E64', u'E65', u'E66', u'E67', u'E68', u'E69', u'E70', u'E71', u'E72', u'E73', u'E74', u'E75', u'E76', u'E77', u'E78', u'E79', u'E80', u'E81', u'E82', u'E83', u'E84', u'E85', u'E86', u'E87', u'E88', u'E89', u'E90', u'E91', u'E92', u'E93', u'E94', u'E95', u'E96', u'E97', u'E98', u'E99', u'E100', u'E101', u'E102', u'E103', u'E104', u'E105', u'E106', u'E107', u'E108', u'E109', u'E110', u'E111', u'E112', u'E113', u'E114', u'E115', u'E116', u'E117', u'E118', u'E119', u'E120', u'E121', u'E122', u'E123', u'E124', u'E125', u'E126', u'E127', u'E128', u'E129', u'E130', u'E131', u'E132', u'E133', u'E134', u'E135', u'E136', u'E137', u'E138', u'E139', u'E140', u'E141', u'E142', u'E143', u'E144', u'E145', u'E146', u'E147', u'E148', u'E149', u'E150', u'E151', u'E152', u'E153', u'E154', u'E155', u'E156', u'E157', u'E158', u'E159', u'E160', u'E161', u'E162', u'E163', u'E164', u'E165', u'E166', u'E167', u'E168', u'E169', u'E170', u'E171', u'E172', u'E173', u'E174', u'E175', u'E176', u'E177', u'E178', u'E179', u'E180', u'E181', u'E182', u'E183', u'E184', u'E185', u'E186', u'E187', u'E188', u'E189', u'E190', u'E191', u'E192', u'E193', u'E194', u'E195', u'E196', u'E197', u'E198', u'E199', u'E200', u'E201', u'E202', u'E203', u'E204', u'E205', u'E206', u'E207', u'E208', u'E209', u'E210', u'E211', u'E212', u'E213', u'E214', u'E215', u'E216', u'E217', u'E218', u'E219', u'E220', u'E221', u'E222', u'E223', u'E224', u'E225', u'E226', u'E227', u'E228', u'E229', u'E230', u'E231', u'E232', u'E233', u'E234', u'E235', u'E236', u'E237', u'E238', u'E239', u'E240', u'E241', u'E242', u'E243', u'E244', u'E245', u'E246', u'E247', u'E248', u'E249', u'E250', u'E251', u'E252', u'E253', u'E254', u'E255', u'E256', u'REF', 'STI 014']\n"
     ]
    }
   ],
   "source": [
    "print(raw.ch_names)"
   ]
  },
  {
   "cell_type": "markdown",
   "metadata": {},
   "source": [
    "## Visualisation of Raw Data"
   ]
  },
  {
   "cell_type": "code",
   "execution_count": 5,
   "metadata": {},
   "outputs": [
    {
     "data": {
      "text/plain": [
       "<matplotlib.figure.Figure at 0x12e220d10>"
      ]
     },
     "execution_count": 5,
     "metadata": {},
     "output_type": "execute_result"
    }
   ],
   "source": [
    "tmin, tmax = 0, 20\n",
    "raw.crop(tmin, tmax).load_data()  # 0s to 20s data segment\n",
    "raw.plot(show_options=True)"
   ]
  },
  {
   "cell_type": "markdown",
   "metadata": {},
   "source": [
    "### Designating bad channels"
   ]
  },
  {
   "cell_type": "code",
   "execution_count": 106,
   "metadata": {},
   "outputs": [],
   "source": [
    "# bad channels\n",
    "raw.info['bads'] = ['E82','E102','E103','E111','E112','E113','E120','E121',\n",
    "                    'E122','E123','E124','E133','E134','E135','E136','E145','E146',\n",
    "                    'E147','E156','E167','E210','E229','E237','E256']\n",
    "picks = mne.pick_types(raw.info, meg=False, eeg=True, eog=False, stim=False,\n",
    "                       exclude='bads')"
   ]
  },
  {
   "cell_type": "code",
   "execution_count": 55,
   "metadata": {},
   "outputs": [
    {
     "data": {
      "text/plain": [
       "<matplotlib.figure.Figure at 0x13a9b9190>"
      ]
     },
     "execution_count": 55,
     "metadata": {},
     "output_type": "execute_result"
    }
   ],
   "source": [
    "raw.plot_sensors(kind='3d', ch_type='eeg', ch_groups='position')"
   ]
  },
  {
   "cell_type": "markdown",
   "metadata": {},
   "source": [
    "### Projection mapping"
   ]
  },
  {
   "cell_type": "code",
   "execution_count": 7,
   "metadata": {},
   "outputs": [
    {
     "name": "stdout",
     "output_type": "stream",
     "text": [
      "Adding average EEG reference projection.\n",
      "1 projection items deactivated\n",
      "Average reference projection was added, but hasn't been applied yet. Use the .apply_proj() method function to apply projections.\n",
      "Created an SSP operator (subspace dimension = 1)\n",
      "1 projection items activated\n",
      "SSP projectors applied...\n"
     ]
    },
    {
     "data": {
      "text/plain": [
       "<matplotlib.figure.Figure at 0x135344e10>"
      ]
     },
     "execution_count": 7,
     "metadata": {},
     "output_type": "execute_result"
    }
   ],
   "source": [
    "raw.set_eeg_reference()\n",
    "raw.apply_proj()\n",
    "raw.plot_projs_topomap()"
   ]
  },
  {
   "cell_type": "markdown",
   "metadata": {},
   "source": [
    "### Power plot"
   ]
  },
  {
   "cell_type": "code",
   "execution_count": 8,
   "metadata": {},
   "outputs": [
    {
     "name": "stdout",
     "output_type": "stream",
     "text": [
      "tmax defaults to 60. in 0.14 but will change to np.inf in 0.15. Set it explicitly to avoid this warning\n",
      "Effective window size : 8.192 (s)\n"
     ]
    },
    {
     "name": "stderr",
     "output_type": "stream",
     "text": [
      "<ipython-input-8-0ad863b69bc9>:1: DeprecationWarning: tmax defaults to 60. in 0.14 but will change to np.inf in 0.15. Set it explicitly to avoid this warning\n",
      "  raw.plot_psd(average=False)\n",
      "/anaconda/lib/python2.7/site-packages/matplotlib/figure.py:1743: UserWarning: This figure includes Axes that are not compatible with tight_layout, so its results might be incorrect.\n",
      "  warnings.warn(\"This figure includes Axes that are not \"\n"
     ]
    },
    {
     "data": {
      "text/plain": [
       "<matplotlib.figure.Figure at 0x1330b91d0>"
      ]
     },
     "execution_count": 8,
     "metadata": {},
     "output_type": "execute_result"
    }
   ],
   "source": [
    "raw.plot_psd(average=False)"
   ]
  },
  {
   "cell_type": "markdown",
   "metadata": {},
   "source": [
    "### Filtering of data"
   ]
  },
  {
   "cell_type": "code",
   "execution_count": 9,
   "metadata": {},
   "outputs": [
    {
     "name": "stdout",
     "output_type": "stream",
     "text": [
      "Setting up low-pass filter at 50 Hz\n",
      "h_trans_bandwidth chosen to be 12.5 Hz\n",
      "Filter length of 132 samples (0.528 sec) selected\n",
      "Setting up high-pass filter at 1 Hz\n",
      "l_trans_bandwidth chosen to be 1.0 Hz\n",
      "Filter length of 1650 samples (6.600 sec) selected\n",
      "Setting up band-stop filter from 49 - 51 Hz\n",
      "Filter length of 3300 samples (13.200 sec) selected\n"
     ]
    },
    {
     "data": {
      "text/plain": [
       "<RawEEGLAB  |  None, n_channels x n_times : 258 x 5001 (20.0 sec), ~10.4 MB, data loaded>"
      ]
     },
     "execution_count": 9,
     "metadata": {},
     "output_type": "execute_result"
    }
   ],
   "source": [
    "raw.filter(l_freq=None, h_freq=50) #low-pass filter at 50 Hz\n",
    "raw.filter(l_freq=1, h_freq=None) #high-pass filter at 1 Hz\n",
    "raw.notch_filter(freqs=50, picks=picks, filter_length='auto', phase='zero')"
   ]
  },
  {
   "cell_type": "code",
   "execution_count": 10,
   "metadata": {},
   "outputs": [
    {
     "name": "stdout",
     "output_type": "stream",
     "text": [
      "tmax defaults to 60. in 0.14 but will change to np.inf in 0.15. Set it explicitly to avoid this warning\n",
      "Effective window size : 8.192 (s)\n"
     ]
    },
    {
     "name": "stderr",
     "output_type": "stream",
     "text": [
      "<ipython-input-10-3fa7306528c8>:1: DeprecationWarning: tmax defaults to 60. in 0.14 but will change to np.inf in 0.15. Set it explicitly to avoid this warning\n",
      "  raw.plot_psd(average=False)\n"
     ]
    },
    {
     "data": {
      "text/plain": [
       "<matplotlib.figure.Figure at 0x12887a290>"
      ]
     },
     "execution_count": 10,
     "metadata": {},
     "output_type": "execute_result"
    }
   ],
   "source": [
    "raw.plot_psd(average=False)\n",
    "raw.plot()"
   ]
  },
  {
   "cell_type": "markdown",
   "metadata": {},
   "source": [
    "### Finding events"
   ]
  },
  {
   "cell_type": "code",
   "execution_count": 414,
   "metadata": {},
   "outputs": [
    {
     "name": "stdout",
     "output_type": "stream",
     "text": [
      "50 events found\n",
      "Events id: [ 41  43  81  83  87 100 101 110 111]\n"
     ]
    }
   ],
   "source": [
    "events = mne.find_events(raw, shortest_event=1)\n",
    "event_id = {'Vis' : 87,'Auditory/Left' : 100, 'Auditory/Right' : 101, 'Letter': 110}"
   ]
  },
  {
   "cell_type": "markdown",
   "metadata": {},
   "source": [
    "### Setting baseline"
   ]
  },
  {
   "cell_type": "code",
   "execution_count": 415,
   "metadata": {
    "collapsed": true
   },
   "outputs": [],
   "source": [
    "baseline = (None, 0)  # means from the first instant to t = 0"
   ]
  },
  {
   "cell_type": "markdown",
   "metadata": {},
   "source": [
    "### Peak-to-peak rejection parameters"
   ]
  },
  {
   "cell_type": "code",
   "execution_count": 416,
   "metadata": {
    "collapsed": true
   },
   "outputs": [],
   "source": [
    "reject = dict(eeg=200e-6)"
   ]
  },
  {
   "cell_type": "code",
   "execution_count": 417,
   "metadata": {
    "collapsed": true
   },
   "outputs": [],
   "source": [
    "  # event trigger and conditions\n",
    "tmin = -0.02  # start of each epoch (200ms before the trigger)\n",
    "tmax = 0.1  # end of each epoch (1000ms after the trigger)"
   ]
  },
  {
   "cell_type": "markdown",
   "metadata": {},
   "source": [
    "### Defining epochs"
   ]
  },
  {
   "cell_type": "code",
   "execution_count": 418,
   "metadata": {},
   "outputs": [
    {
     "name": "stdout",
     "output_type": "stream",
     "text": [
      "39 matching events found\n",
      "Created an SSP operator (subspace dimension = 1)\n",
      "1 projection items activated\n",
      "Loading data for 39 events and 31 original time points ...\n",
      "    Rejecting  epoch based on EEG : [u'E83', u'E93', u'E94', u'E95', u'E104', u'E105', u'E251']\n",
      "    Rejecting  epoch based on EEG : [u'E83', u'E93', u'E94', u'E95', u'E104', u'E105', u'E251']\n",
      "    Rejecting  epoch based on EEG : [u'E165', u'E166']\n",
      "    Rejecting  epoch based on EEG : [u'E165', u'E166']\n",
      "    Rejecting  epoch based on EEG : [u'E165', u'E166', u'E208', u'E247']\n",
      "    Rejecting  epoch based on EEG : [u'E165', u'E166', u'E208', u'E247']\n",
      "    Rejecting  epoch based on EEG : [u'E2', u'E3', u'E10', u'E11', u'E36', u'E38', u'E39', u'E40', u'E41', u'E46', u'E47', u'E48', u'E49', u'E50', u'E54', u'E55', u'E56', u'E57', u'E83', u'E93', u'E95', u'E104', u'E105', u'E165', u'E166', u'E168', u'E178', u'E199', u'E205', u'E208', u'E212', u'E221', u'E223', u'E224', u'E228', u'E232', u'E247', u'E251']\n",
      "    Rejecting  epoch based on EEG : [u'E2', u'E3', u'E10', u'E11', u'E38', u'E41', u'E46', u'E47', u'E48', u'E49', u'E50', u'E55', u'E56', u'E57', u'E83', u'E93', u'E95', u'E104', u'E105', u'E165', u'E166', u'E168', u'E178', u'E199', u'E205', u'E208', u'E221', u'E223', u'E224', u'E228', u'E232', u'E247', u'E251']\n",
      "    Rejecting  epoch based on EEG : [u'E1', u'E2', u'E3', u'E4', u'E5', u'E6', u'E7', u'E8', u'E9', u'E10', u'E11', u'E12', u'E13', u'E14', u'E15', u'E16', u'E17', u'E18', u'E19', u'E20', u'E21', u'E22', u'E23', u'E24', u'E25', u'E26', u'E27', u'E28', u'E29', u'E30', u'E31', u'E32', u'E33', u'E34', u'E35', u'E36', u'E37', u'E38', u'E39', u'E40', u'E41', u'E42', u'E43', u'E44', u'E45', u'E46', u'E47', u'E48', u'E49', u'E50', u'E51', u'E52', u'E53', u'E54', u'E55', u'E56', u'E57', u'E58', u'E59', u'E60', u'E61', u'E62', u'E63', u'E64', u'E65', u'E66', u'E67', u'E68', u'E69', u'E70', u'E71', u'E72', u'E73', u'E74', u'E75', u'E76', u'E77', u'E78', u'E79', u'E80', u'E81', u'E84', u'E85', u'E86', u'E87', u'E88', u'E89', u'E90', u'E91', u'E92', u'E93', u'E95', u'E97', u'E98', u'E99', u'E100', u'E101', u'E104', u'E105', u'E107', u'E108', u'E109', u'E110', u'E115', u'E116', u'E117', u'E118', u'E119', u'E125', u'E126', u'E127', u'E128', u'E129', u'E130', u'E131', u'E132', u'E137', u'E138', u'E139', u'E140', u'E141', u'E142', u'E143', u'E144', u'E151', u'E152', u'E153', u'E154', u'E155', u'E158', u'E159', u'E161', u'E162', u'E163', u'E164', u'E165', u'E166', u'E168', u'E171', u'E172', u'E173', u'E174', u'E176', u'E178', u'E179', u'E180', u'E181', u'E182', u'E183', u'E184', u'E185', u'E186', u'E188', u'E189', u'E190', u'E191', u'E192', u'E193', u'E194', u'E195', u'E196', u'E197', u'E198', u'E199', u'E200', u'E201', u'E202', u'E203', u'E204', u'E205', u'E206', u'E207', u'E208', u'E209', u'E211', u'E212', u'E213', u'E214', u'E215', u'E216', u'E217', u'E218', u'E219', u'E220', u'E221', u'E222', u'E223', u'E224', u'E225', u'E226', u'E227', u'E228', u'E230', u'E231', u'E232', u'E233', u'E234', u'E235', u'E236', u'E238', u'E239', u'E240', u'E241', u'E242', u'E243', u'E244', u'E245', u'E246', u'E247', u'E248', u'E249', u'E250', u'E251', u'E252', u'E253', u'E254', u'E255', u'REF']\n",
      "    Rejecting  epoch based on EEG : [u'E1', u'E2', u'E3', u'E4', u'E5', u'E6', u'E7', u'E8', u'E9', u'E10', u'E11', u'E12', u'E13', u'E14', u'E15', u'E16', u'E17', u'E18', u'E19', u'E20', u'E21', u'E22', u'E23', u'E24', u'E25', u'E26', u'E27', u'E28', u'E29', u'E30', u'E31', u'E32', u'E33', u'E34', u'E35', u'E36', u'E37', u'E38', u'E39', u'E40', u'E41', u'E42', u'E43', u'E44', u'E45', u'E46', u'E47', u'E48', u'E49', u'E50', u'E51', u'E52', u'E53', u'E54', u'E55', u'E56', u'E57', u'E58', u'E59', u'E60', u'E61', u'E62', u'E63', u'E64', u'E65', u'E66', u'E67', u'E68', u'E69', u'E70', u'E71', u'E72', u'E73', u'E74', u'E75', u'E76', u'E77', u'E78', u'E79', u'E80', u'E81', u'E84', u'E85', u'E86', u'E87', u'E88', u'E89', u'E90', u'E91', u'E92', u'E93', u'E95', u'E97', u'E98', u'E99', u'E100', u'E101', u'E104', u'E105', u'E107', u'E108', u'E109', u'E110', u'E114', u'E115', u'E116', u'E117', u'E118', u'E119', u'E125', u'E126', u'E127', u'E128', u'E129', u'E130', u'E131', u'E132', u'E137', u'E138', u'E139', u'E140', u'E141', u'E142', u'E143', u'E144', u'E149', u'E150', u'E151', u'E152', u'E153', u'E154', u'E155', u'E158', u'E159', u'E160', u'E161', u'E162', u'E163', u'E164', u'E165', u'E166', u'E171', u'E172', u'E173', u'E174', u'E176', u'E178', u'E179', u'E180', u'E181', u'E182', u'E183', u'E184', u'E185', u'E186', u'E188', u'E189', u'E190', u'E191', u'E192', u'E193', u'E194', u'E195', u'E196', u'E197', u'E198', u'E199', u'E200', u'E201', u'E202', u'E203', u'E204', u'E205', u'E206', u'E207', u'E208', u'E209', u'E211', u'E212', u'E213', u'E214', u'E215', u'E216', u'E217', u'E218', u'E219', u'E220', u'E221', u'E222', u'E223', u'E224', u'E225', u'E226', u'E227', u'E228', u'E230', u'E231', u'E232', u'E233', u'E234', u'E235', u'E236', u'E238', u'E239', u'E240', u'E241', u'E242', u'E243', u'E244', u'E245', u'E246', u'E247', u'E248', u'E249', u'E250', u'E251', u'E252', u'E253', u'E254', u'E255', u'REF']\n",
      "    Rejecting  epoch based on EEG : [u'E165', u'E166', u'E178', u'E199', u'E200', u'E208', u'E247', u'E251']\n",
      "    Rejecting  epoch based on EEG : [u'E165', u'E166', u'E178', u'E199', u'E200', u'E208', u'E247', u'E251']\n",
      "    Rejecting  epoch based on EEG : [u'E178', u'E247', u'E251']\n",
      "    Rejecting  epoch based on EEG : [u'E178', u'E247', u'E251']\n",
      "    Rejecting  epoch based on EEG : [u'E165', u'E166', u'E247', u'E251']\n",
      "    Rejecting  epoch based on EEG : [u'E165', u'E168', u'E247', u'E251']\n",
      "    Rejecting  epoch based on EEG : [u'E217', u'E251']\n",
      "    Rejecting  epoch based on EEG : [u'E178']\n",
      "    Rejecting  epoch based on EEG : [u'E199', u'E247']\n",
      "    Rejecting  epoch based on EEG : [u'E178', u'E199', u'E251']\n",
      "    Rejecting  epoch based on EEG : [u'E165', u'E166', u'E174', u'E199', u'E247', u'E251']\n",
      "    Rejecting  epoch based on EEG : [u'E165', u'E166', u'E174', u'E199', u'E247', u'E251']\n",
      "23 bad epochs dropped\n",
      "<Epochs  |  n_events : 16 (all good), tmin : -0.02 (s), tmax : 0.1 (s), baseline : (None, 0), ~1.4 MB, data loaded,\n",
      " 'Auditory/Left': 7, 'Auditory/Right': 1, 'Letter': 7, 'Vis': 1>\n"
     ]
    }
   ],
   "source": [
    "epochs = mne.Epochs(raw, events, event_id, tmin, tmax, proj=True, picks=picks,\n",
    "                    baseline=baseline, preload=True, reject=reject)\n",
    "print(epochs)"
   ]
  },
  {
   "cell_type": "markdown",
   "metadata": {},
   "source": [
    "### Evoked responses"
   ]
  },
  {
   "cell_type": "code",
   "execution_count": 419,
   "metadata": {},
   "outputs": [
    {
     "data": {
      "text/plain": [
       "<matplotlib.figure.Figure at 0x15c8bead0>"
      ]
     },
     "execution_count": 419,
     "metadata": {},
     "output_type": "execute_result"
    }
   ],
   "source": [
    "epochs.pick_channels(['E137','E148','E157','E166','E165','E125',\n",
    "                      'E126','E138','E149','E117','E118','E119','E116']) #Setting channels for evoked response of Auditory/Left trigger\n",
    "evoked_right = epochs['Vis'].average()\n",
    "evoked_right.plot(titles='Visual feedback evoked response', spatial_colors=True, gfp=True)"
   ]
  },
  {
   "cell_type": "code",
   "execution_count": null,
   "metadata": {
    "collapsed": true
   },
   "outputs": [],
   "source": []
  }
 ],
 "metadata": {
  "kernelspec": {
   "display_name": "Python 2",
   "language": "python",
   "name": "python2"
  },
  "language_info": {
   "codemirror_mode": {
    "name": "ipython",
    "version": 2
   },
   "file_extension": ".py",
   "mimetype": "text/x-python",
   "name": "python",
   "nbconvert_exporter": "python",
   "pygments_lexer": "ipython2",
   "version": "2.7.13"
  }
 },
 "nbformat": 4,
 "nbformat_minor": 2
}
