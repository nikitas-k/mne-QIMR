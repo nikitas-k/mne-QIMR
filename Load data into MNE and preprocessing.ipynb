{
 "cells": [
  {
   "cell_type": "markdown",
   "metadata": {},
   "source": [
    "# Set the directory"
   ]
  },
  {
   "cell_type": "code",
   "execution_count": 1,
   "metadata": {},
   "outputs": [
    {
     "name": "stdout",
     "output_type": "stream",
     "text": [
      "/Users/nikitaskoussis/Dropbox/Science/Third Year/PVB304/Journal article/MNE\n"
     ]
    }
   ],
   "source": [
    "cd /Users/nikitaskoussis/Dropbox/Science/Third\\ Year/PVB304/Journal\\ article/MNE\n"
   ]
  },
  {
   "cell_type": "markdown",
   "metadata": {},
   "source": [
    "## Import the packages"
   ]
  },
  {
   "cell_type": "code",
   "execution_count": 2,
   "metadata": {
    "collapsed": true
   },
   "outputs": [],
   "source": [
    "import mne\n",
    "import scipy\n",
    "import numpy\n",
    "import matplotlib\n",
    "matplotlib.use('Qt5Agg')\n",
    "\n"
   ]
  },
  {
   "cell_type": "markdown",
   "metadata": {},
   "source": [
    "# Import Data\n",
    "\n",
    "Now we will try to get some data in the memory!\n"
   ]
  },
  {
   "cell_type": "code",
   "execution_count": 3,
   "metadata": {
    "scrolled": true
   },
   "outputs": [
    {
     "name": "stdout",
     "output_type": "stream",
     "text": [
      "cw_corr_example_set.set   example_set.set           plot_visualize_raw.ipynb\r\n",
      "\u001b[34mexample_dataset\u001b[m\u001b[m/          matlab.mat\r\n"
     ]
    }
   ],
   "source": [
    "ls"
   ]
  },
  {
   "cell_type": "code",
   "execution_count": 4,
   "metadata": {},
   "outputs": [
    {
     "name": "stdout",
     "output_type": "stream",
     "text": [
      "The data contains 'boundary' events, indicating data discontinuities. Be cautious of filtering and epoching around these events.\n",
      "Events like the following will be dropped entirely: ['boundary', 'Sync On'], 2 in total\n",
      "128/128 event codes could not be mapped to integers. Use the 'event_id' parameter to map such events manually.\n",
      "As is, the trigger channel will consist entirely of zeros.\n",
      "Data will be preloaded. preload=False or a string preload is not supported when the data is stored in the .set file\n"
     ]
    },
    {
     "name": "stderr",
     "output_type": "stream",
     "text": [
      "<ipython-input-4-0dd94fbc47c8>:2: RuntimeWarning: The data contains 'boundary' events, indicating data discontinuities. Be cautious of filtering and epoching around these events.\n",
      "  raw=mne.io.read_raw_eeglab(filename)\n",
      "<ipython-input-4-0dd94fbc47c8>:2: RuntimeWarning: Events like the following will be dropped entirely: ['boundary', 'Sync On'], 2 in total\n",
      "  raw=mne.io.read_raw_eeglab(filename)\n",
      "<ipython-input-4-0dd94fbc47c8>:2: RuntimeWarning: 128/128 event codes could not be mapped to integers. Use the 'event_id' parameter to map such events manually.\n",
      "  raw=mne.io.read_raw_eeglab(filename)\n",
      "<ipython-input-4-0dd94fbc47c8>:2: RuntimeWarning: As is, the trigger channel will consist entirely of zeros.\n",
      "  raw=mne.io.read_raw_eeglab(filename)\n",
      "<ipython-input-4-0dd94fbc47c8>:2: RuntimeWarning: Data will be preloaded. preload=False or a string preload is not supported when the data is stored in the .set file\n",
      "  raw=mne.io.read_raw_eeglab(filename)\n"
     ]
    }
   ],
   "source": [
    "filename='example_set.set'\n",
    "raw=mne.io.read_raw_eeglab(filename)\n"
   ]
  },
  {
   "cell_type": "code",
   "execution_count": 5,
   "metadata": {},
   "outputs": [
    {
     "name": "stdout",
     "output_type": "stream",
     "text": [
      "<RawEEGLAB  |  None, n_channels x n_times : 41 x 127611 (255.2 sec), ~40.0 MB, data loaded>\n",
      "<Info | 16 non-empty fields\n",
      "    bads : list | 0 items\n",
      "    buffer_size_sec : float | 1.0\n",
      "    ch_names : list | F3, F4, C3, C4, P3, P4, PO3, PO4, FC5, ...\n",
      "    chs : list | 41 items (EEG: 40, STIM: 1)\n",
      "    comps : list | 0 items\n",
      "    custom_ref_applied : bool | False\n",
      "    dev_head_t : 'mne.transforms.Transform | 3 items\n",
      "    events : list | 0 items\n",
      "    highpass : float | 0.0 Hz\n",
      "    hpi_meas : list | 0 items\n",
      "    hpi_results : list | 0 items\n",
      "    lowpass : float | 250.0 Hz\n",
      "    meas_date : numpy.ndarray | 1970-01-01 10:00:00\n",
      "    nchan : int | 41\n",
      "    projs : list | 0 items\n",
      "    sfreq : float | 500.0 Hz\n",
      "    acq_pars : NoneType\n",
      "    acq_stim : NoneType\n",
      "    ctf_head_t : NoneType\n",
      "    description : NoneType\n",
      "    dev_ctf_t : NoneType\n",
      "    dig : NoneType\n",
      "    experimenter : NoneType\n",
      "    file_id : NoneType\n",
      "    hpi_subsystem : NoneType\n",
      "    kit_system_id : NoneType\n",
      "    line_freq : NoneType\n",
      "    meas_id : NoneType\n",
      "    proj_id : NoneType\n",
      "    proj_name : NoneType\n",
      "    subject_info : NoneType\n",
      "    xplotter_layout : NoneType\n",
      ">\n"
     ]
    }
   ],
   "source": [
    "print(raw)\n",
    "print(raw.info)"
   ]
  },
  {
   "cell_type": "code",
   "execution_count": 6,
   "metadata": {
    "scrolled": true
   },
   "outputs": [
    {
     "name": "stdout",
     "output_type": "stream",
     "text": [
      "[u'F3', u'F4', u'C3', u'C4', u'P3', u'P4', u'PO3', u'PO4', u'FC5', u'FC6', u'CP5', u'CP6', u'F7', u'F8', u'T7', u'T8', u'P7', u'P8', u'TP9', u'TP10', u'PO9', u'PO10', u'Fpz', u'Fz', u'Cz', u'Pz', u'POz', u'Oz', u'Iz', u'AFz', u'EOG', u'ECG', u'CW 1', u'CW 2', u'CW 3', u'CW 4', u'CW 5', u'CW 6', u'CW 7', u'CW 8', 'STI 014']\n"
     ]
    }
   ],
   "source": [
    "print(raw.ch_names)"
   ]
  },
  {
   "cell_type": "code",
   "execution_count": 7,
   "metadata": {
    "scrolled": true
   },
   "outputs": [
    {
     "name": "stdout",
     "output_type": "stream",
     "text": [
      "Adding average EEG reference projection.\n",
      "1 projection items deactivated\n",
      "Average reference projection was added, but hasn't been applied yet. Use the .apply_proj() method function to apply projections.\n"
     ]
    },
    {
     "data": {
      "text/plain": [
       "<RawEEGLAB  |  None, n_channels x n_times : 41 x 127611 (255.2 sec), ~40.0 MB, data loaded>"
      ]
     },
     "execution_count": 7,
     "metadata": {},
     "output_type": "execute_result"
    }
   ],
   "source": [
    "raw.set_eeg_reference()"
   ]
  },
  {
   "cell_type": "markdown",
   "metadata": {},
   "source": [
    "## Plot raw data"
   ]
  },
  {
   "cell_type": "code",
   "execution_count": 8,
   "metadata": {},
   "outputs": [
    {
     "data": {
      "text/plain": [
       "<matplotlib.figure.Figure at 0x114bce890>"
      ]
     },
     "execution_count": 8,
     "metadata": {},
     "output_type": "execute_result"
    }
   ],
   "source": [
    "raw.plot(show_options=True)"
   ]
  },
  {
   "cell_type": "markdown",
   "metadata": {},
   "source": [
    "#### Removing bad channels"
   ]
  },
  {
   "cell_type": "code",
   "execution_count": 72,
   "metadata": {
    "collapsed": true
   },
   "outputs": [],
   "source": [
    "#raw.info['bads'] ="
   ]
  },
  {
   "cell_type": "code",
   "execution_count": 73,
   "metadata": {
    "collapsed": true
   },
   "outputs": [],
   "source": [
    "picks = mne.pick_types(raw.info, meg=True, eeg=True, eog=True, stim=False,\n",
    "                      exclude='bads')"
   ]
  },
  {
   "cell_type": "markdown",
   "metadata": {},
   "source": [
    "#### Define peak-to-peak rejection parameters for gradiometers, magnetometers and EOG"
   ]
  },
  {
   "cell_type": "code",
   "execution_count": 54,
   "metadata": {
    "collapsed": true
   },
   "outputs": [],
   "source": [
    "reject = dict(grad=4000e-13, mag=4e-12, eog=150e-6)"
   ]
  },
  {
   "cell_type": "markdown",
   "metadata": {},
   "source": [
    "#### Define baseline period"
   ]
  },
  {
   "cell_type": "code",
   "execution_count": 55,
   "metadata": {
    "collapsed": true
   },
   "outputs": [],
   "source": [
    "baseline = (None, 0) ##from the first instant to t = 0"
   ]
  },
  {
   "cell_type": "markdown",
   "metadata": {},
   "source": [
    "#### Define and read epochs"
   ]
  },
  {
   "cell_type": "code",
   "execution_count": 63,
   "metadata": {
    "collapsed": true
   },
   "outputs": [],
   "source": [
    "event_id = dict(aud_l=1, aud_r=2) #event trigger and conditions\n",
    "tmin = -0.2 #start of each epoch (200 ms before the trigger)\n",
    "tmax = 0.5 #end of each epoch (500 ms after the trigger)\n",
    "events = mne.find_events(raw, stim_channel='STI 014')"
   ]
  },
  {
   "cell_type": "code",
   "execution_count": 65,
   "metadata": {},
   "outputs": [
    {
     "ename": "ValueError",
     "evalue": "event_id must be dict or int.",
     "output_type": "error",
     "traceback": [
      "\u001b[0;31m---------------------------------------------------------------------------\u001b[0m",
      "\u001b[0;31mValueError\u001b[0m                                Traceback (most recent call last)",
      "\u001b[0;32m<ipython-input-65-14841abaac9c>\u001b[0m in \u001b[0;36m<module>\u001b[0;34m()\u001b[0m\n\u001b[1;32m      1\u001b[0m epochs = mne.Epochs(raw, events, tmin, tmax, proj=True,\n\u001b[0;32m----> 2\u001b[0;31m                     picks=picks, baseline=baseline, preload=False, reject=reject)\n\u001b[0m",
      "\u001b[0;32m/anaconda/lib/python2.7/site-packages/mne/epochs.pyc\u001b[0m in \u001b[0;36m__init__\u001b[0;34m(self, raw, events, event_id, tmin, tmax, baseline, picks, name, preload, reject, flat, proj, decim, reject_tmin, reject_tmax, detrend, add_eeg_ref, on_missing, reject_by_annotation, verbose)\u001b[0m\n",
      "\u001b[0;32m/anaconda/lib/python2.7/site-packages/mne/utils.pyc\u001b[0m in \u001b[0;36mverbose\u001b[0;34m(function, *args, **kwargs)\u001b[0m\n\u001b[1;32m    705\u001b[0m         \u001b[0;32mwith\u001b[0m \u001b[0muse_log_level\u001b[0m\u001b[0;34m(\u001b[0m\u001b[0mverbose_level\u001b[0m\u001b[0;34m)\u001b[0m\u001b[0;34m:\u001b[0m\u001b[0;34m\u001b[0m\u001b[0m\n\u001b[1;32m    706\u001b[0m             \u001b[0;32mreturn\u001b[0m \u001b[0mfunction\u001b[0m\u001b[0;34m(\u001b[0m\u001b[0;34m*\u001b[0m\u001b[0margs\u001b[0m\u001b[0;34m,\u001b[0m \u001b[0;34m**\u001b[0m\u001b[0mkwargs\u001b[0m\u001b[0;34m)\u001b[0m\u001b[0;34m\u001b[0m\u001b[0m\n\u001b[0;32m--> 707\u001b[0;31m     \u001b[0;32mreturn\u001b[0m \u001b[0mfunction\u001b[0m\u001b[0;34m(\u001b[0m\u001b[0;34m*\u001b[0m\u001b[0margs\u001b[0m\u001b[0;34m,\u001b[0m \u001b[0;34m**\u001b[0m\u001b[0mkwargs\u001b[0m\u001b[0;34m)\u001b[0m\u001b[0;34m\u001b[0m\u001b[0m\n\u001b[0m\u001b[1;32m    708\u001b[0m \u001b[0;34m\u001b[0m\u001b[0m\n\u001b[1;32m    709\u001b[0m \u001b[0;34m\u001b[0m\u001b[0m\n",
      "\u001b[0;32m/anaconda/lib/python2.7/site-packages/mne/epochs.pyc\u001b[0m in \u001b[0;36m__init__\u001b[0;34m(self, raw, events, event_id, tmin, tmax, baseline, picks, name, preload, reject, flat, proj, decim, reject_tmin, reject_tmax, detrend, add_eeg_ref, on_missing, reject_by_annotation, verbose)\u001b[0m\n\u001b[1;32m   1930\u001b[0m             \u001b[0mdecim\u001b[0m\u001b[0;34m=\u001b[0m\u001b[0mdecim\u001b[0m\u001b[0;34m,\u001b[0m \u001b[0mreject_tmin\u001b[0m\u001b[0;34m=\u001b[0m\u001b[0mreject_tmin\u001b[0m\u001b[0;34m,\u001b[0m \u001b[0mreject_tmax\u001b[0m\u001b[0;34m=\u001b[0m\u001b[0mreject_tmax\u001b[0m\u001b[0;34m,\u001b[0m\u001b[0;34m\u001b[0m\u001b[0m\n\u001b[1;32m   1931\u001b[0m             \u001b[0mdetrend\u001b[0m\u001b[0;34m=\u001b[0m\u001b[0mdetrend\u001b[0m\u001b[0;34m,\u001b[0m \u001b[0madd_eeg_ref\u001b[0m\u001b[0;34m=\u001b[0m\u001b[0madd_eeg_ref\u001b[0m\u001b[0;34m,\u001b[0m \u001b[0mproj\u001b[0m\u001b[0;34m=\u001b[0m\u001b[0mproj\u001b[0m\u001b[0;34m,\u001b[0m\u001b[0;34m\u001b[0m\u001b[0m\n\u001b[0;32m-> 1932\u001b[0;31m             on_missing=on_missing, preload_at_end=preload, verbose=verbose)\n\u001b[0m\u001b[1;32m   1933\u001b[0m \u001b[0;34m\u001b[0m\u001b[0m\n\u001b[1;32m   1934\u001b[0m     \u001b[0;34m@\u001b[0m\u001b[0mverbose\u001b[0m\u001b[0;34m\u001b[0m\u001b[0m\n",
      "\u001b[0;32m/anaconda/lib/python2.7/site-packages/mne/epochs.pyc\u001b[0m in \u001b[0;36m__init__\u001b[0;34m(self, info, data, events, event_id, tmin, tmax, baseline, raw, picks, name, reject, flat, decim, reject_tmin, reject_tmax, detrend, add_eeg_ref, proj, on_missing, preload_at_end, selection, drop_log, filename, verbose)\u001b[0m\n\u001b[1;32m    248\u001b[0m             \u001b[0mevent_id\u001b[0m \u001b[0;34m=\u001b[0m \u001b[0;34m{\u001b[0m\u001b[0mstr\u001b[0m\u001b[0;34m(\u001b[0m\u001b[0mevent_id\u001b[0m\u001b[0;34m)\u001b[0m\u001b[0;34m:\u001b[0m \u001b[0mevent_id\u001b[0m\u001b[0;34m}\u001b[0m\u001b[0;34m\u001b[0m\u001b[0m\n\u001b[1;32m    249\u001b[0m         \u001b[0;32melse\u001b[0m\u001b[0;34m:\u001b[0m\u001b[0;34m\u001b[0m\u001b[0m\n\u001b[0;32m--> 250\u001b[0;31m             \u001b[0;32mraise\u001b[0m \u001b[0mValueError\u001b[0m\u001b[0;34m(\u001b[0m\u001b[0;34m'event_id must be dict or int.'\u001b[0m\u001b[0;34m)\u001b[0m\u001b[0;34m\u001b[0m\u001b[0m\n\u001b[0m\u001b[1;32m    251\u001b[0m         \u001b[0;32mfor\u001b[0m \u001b[0mk\u001b[0m\u001b[0;34m,\u001b[0m \u001b[0mv\u001b[0m \u001b[0;32min\u001b[0m \u001b[0mevent_id\u001b[0m\u001b[0;34m.\u001b[0m\u001b[0mitems\u001b[0m\u001b[0;34m(\u001b[0m\u001b[0;34m)\u001b[0m\u001b[0;34m:\u001b[0m\u001b[0;34m\u001b[0m\u001b[0m\n\u001b[1;32m    252\u001b[0m             \u001b[0mevent_id\u001b[0m\u001b[0;34m[\u001b[0m\u001b[0mk\u001b[0m\u001b[0;34m]\u001b[0m \u001b[0;34m=\u001b[0m \u001b[0mint\u001b[0m\u001b[0;34m(\u001b[0m\u001b[0mv\u001b[0m\u001b[0;34m)\u001b[0m  \u001b[0;31m# make sure values are of type int\u001b[0m\u001b[0;34m\u001b[0m\u001b[0m\n",
      "\u001b[0;31mValueError\u001b[0m: event_id must be dict or int."
     ]
    }
   ],
   "source": [
    "#epochs = mne.Epochs(raw, events, tmin, tmax, proj=True,\n",
    "                    picks=picks, baseline=baseline, preload=False, reject=reject)"
   ]
  },
  {
   "cell_type": "code",
   "execution_count": null,
   "metadata": {
    "collapsed": true
   },
   "outputs": [],
   "source": []
  }
 ],
 "metadata": {
  "kernelspec": {
   "display_name": "Python 2",
   "language": "python",
   "name": "python2"
  },
  "language_info": {
   "codemirror_mode": {
    "name": "ipython",
    "version": 2
   },
   "file_extension": ".py",
   "mimetype": "text/x-python",
   "name": "python",
   "nbconvert_exporter": "python",
   "pygments_lexer": "ipython2",
   "version": "2.7.13"
  }
 },
 "nbformat": 4,
 "nbformat_minor": 2
}
