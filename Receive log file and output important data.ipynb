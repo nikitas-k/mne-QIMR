{
 "cells": [
  {
   "cell_type": "markdown",
   "metadata": {},
   "source": [
    "### -*- coding: utf-8 -*-"
   ]
  },
  {
   "cell_type": "code",
   "execution_count": 12,
   "metadata": {
    "collapsed": true
   },
   "outputs": [],
   "source": [
    "import re\n",
    "import numpy as np\n",
    "import matplotlib.pyplot as plt\n",
    "import Tkinter\n",
    "import tkFileDialog\n"
   ]
  },
  {
   "cell_type": "markdown",
   "metadata": {},
   "source": [
    "#### NB, SET INFILE DIRECTORY TO FILE TO BE ANALYSED\n",
    "#### IF 'VALUE ERROR IS RETURNED, CHECK ARRAY SIZES FOR LINE 90"
   ]
  },
  {
   "cell_type": "code",
   "execution_count": 13,
   "metadata": {
    "scrolled": true
   },
   "outputs": [],
   "source": [
    "root = Tkinter.Tk()\n",
    "infile = tkFileDialog.askopenfilename(parent=root, initialdir='/', \n",
    "                                      title='Please select your log file')\n",
    "root.destroy()"
   ]
  },
  {
   "cell_type": "code",
   "execution_count": 14,
   "metadata": {
    "collapsed": true
   },
   "outputs": [],
   "source": [
    "important = []\n",
    "# FOR FIRST SEARCH, ONLY KEEP STIM TIMES AND KEYS\n",
    "keep_phrases = [\"text_4: text = 'M'\",\n",
    "                \"text_4: text = 'W'\"]"
   ]
  },
  {
   "cell_type": "markdown",
   "metadata": {},
   "source": [
    "#### FOR SECOND SEARCH, ONLY KEEP RESPONSE TIMES AND KEYS"
   ]
  },
  {
   "cell_type": "code",
   "execution_count": 15,
   "metadata": {
    "collapsed": true
   },
   "outputs": [],
   "source": [
    "keep_phrases2 = [\"Keypress\"]\n",
    "\n",
    "\n",
    "file = open(\"stim.csv\",\"w\") # open stim.csv for writing (will store stim times and keys)"
   ]
  },
  {
   "cell_type": "markdown",
   "metadata": {},
   "source": [
    "#### begin search of log file for stim times and keys"
   ]
  },
  {
   "cell_type": "code",
   "execution_count": 16,
   "metadata": {},
   "outputs": [],
   "source": [
    "with open(infile) as f:\n",
    "    f = f.readlines()\n",
    "\n",
    "for line in f:\n",
    "    for phrase in keep_phrases:\n",
    "        if phrase in line: \n",
    "            line=re.split('\\s+',line) #converts to .csv\n",
    "            line=str(line)\n",
    "            file.write(line + \"\\n\") #writes lines when found\n",
    "            break\n",
    "\n",
    "file.close()\n",
    "\n",
    "\n",
    "file = open(\"resp.csv\",\"w\") #open resp.csv for writing (will store resp times and keys)\n",
    "with open(infile) as f:\n",
    "    f = f.readlines()"
   ]
  },
  {
   "cell_type": "markdown",
   "metadata": {},
   "source": [
    "#### begin search of log file for resp times and keys"
   ]
  },
  {
   "cell_type": "code",
   "execution_count": 17,
   "metadata": {},
   "outputs": [],
   "source": [
    "for line in f:\n",
    "    for phrase in keep_phrases2:\n",
    "        if phrase in line: \n",
    "            line=re.split('\\s+',line) # removing these 2 lines will result in \n",
    "            line=str(line)              # data split by space , rather than ','\n",
    "            file.write(line + \"\\n\")\n",
    "            break\n",
    "\n",
    "file.close()"
   ]
  },
  {
   "cell_type": "markdown",
   "metadata": {},
   "source": [
    "#### THE FOLLOWING SECTION GRABS REQUIRED LINES\n",
    "#### FROM CSV FILES AND CREATES THEIR OWN VARIABLES \n",
    "#### (stimes, skeys, rtimes, rkeys)"
   ]
  },
  {
   "cell_type": "markdown",
   "metadata": {},
   "source": [
    "#### next step is to merge appropriate variables into a single array"
   ]
  },
  {
   "cell_type": "code",
   "execution_count": 20,
   "metadata": {},
   "outputs": [
    {
     "ename": "TypeError",
     "evalue": "string operation on non-string array",
     "output_type": "error",
     "traceback": [
      "\u001b[1;31m---------------------------------------------------------------------------\u001b[0m",
      "\u001b[1;31mTypeError\u001b[0m                                 Traceback (most recent call last)",
      "\u001b[1;32m<ipython-input-20-b90fc22c7791>\u001b[0m in \u001b[0;36m<module>\u001b[1;34m()\u001b[0m\n\u001b[0;32m     32\u001b[0m     \u001b[0malldata\u001b[0m\u001b[1;33m=\u001b[0m\u001b[0mnp\u001b[0m\u001b[1;33m.\u001b[0m\u001b[0mcolumn_stack\u001b[0m\u001b[1;33m(\u001b[0m\u001b[1;33m(\u001b[0m\u001b[0mstimuli\u001b[0m\u001b[1;33m,\u001b[0m \u001b[0mresponsestrim\u001b[0m\u001b[1;33m)\u001b[0m\u001b[1;33m)\u001b[0m\u001b[1;33m\u001b[0m\u001b[0m\n\u001b[0;32m     33\u001b[0m \u001b[1;33m\u001b[0m\u001b[0m\n\u001b[1;32m---> 34\u001b[1;33m     \u001b[0malldata\u001b[0m\u001b[1;33m=\u001b[0m\u001b[0mnp\u001b[0m\u001b[1;33m.\u001b[0m\u001b[0mchar\u001b[0m\u001b[1;33m.\u001b[0m\u001b[0mreplace\u001b[0m \u001b[1;33m(\u001b[0m\u001b[0malldata\u001b[0m\u001b[1;33m,\u001b[0m \u001b[1;34m'\\''\u001b[0m\u001b[1;33m,\u001b[0m \u001b[1;34m' '\u001b[0m\u001b[1;33m)\u001b[0m \u001b[1;31m#these three lines search for ', \" and [\u001b[0m\u001b[1;33m\u001b[0m\u001b[0m\n\u001b[0m\u001b[0;32m     35\u001b[0m     \u001b[0malldata\u001b[0m\u001b[1;33m=\u001b[0m\u001b[0mnp\u001b[0m\u001b[1;33m.\u001b[0m\u001b[0mchar\u001b[0m\u001b[1;33m.\u001b[0m\u001b[0mreplace\u001b[0m \u001b[1;33m(\u001b[0m\u001b[0malldata\u001b[0m\u001b[1;33m,\u001b[0m \u001b[1;34m'\"'\u001b[0m\u001b[1;33m,\u001b[0m \u001b[1;34m' '\u001b[0m\u001b[1;33m)\u001b[0m  \u001b[1;31m#and remove them from the alldata array\u001b[0m\u001b[1;33m\u001b[0m\u001b[0m\n\u001b[0;32m     36\u001b[0m     \u001b[0malldata\u001b[0m\u001b[1;33m=\u001b[0m\u001b[0mnp\u001b[0m\u001b[1;33m.\u001b[0m\u001b[0mchar\u001b[0m\u001b[1;33m.\u001b[0m\u001b[0mreplace\u001b[0m \u001b[1;33m(\u001b[0m\u001b[0malldata\u001b[0m\u001b[1;33m,\u001b[0m \u001b[1;34m'['\u001b[0m\u001b[1;33m,\u001b[0m \u001b[1;34m' '\u001b[0m\u001b[1;33m)\u001b[0m\u001b[1;33m\u001b[0m\u001b[0m\n",
      "\u001b[1;32mC:\\Users\\User\\Anaconda2\\lib\\site-packages\\numpy\\core\\defchararray.pyc\u001b[0m in \u001b[0;36mreplace\u001b[1;34m(a, old, new, count)\u001b[0m\n\u001b[0;32m   1070\u001b[0m     return _to_string_or_unicode_array(\n\u001b[0;32m   1071\u001b[0m         _vec_string(\n\u001b[1;32m-> 1072\u001b[1;33m             a, object_, 'replace', [old, new] + _clean_args(count)))\n\u001b[0m\u001b[0;32m   1073\u001b[0m \u001b[1;33m\u001b[0m\u001b[0m\n\u001b[0;32m   1074\u001b[0m \u001b[1;33m\u001b[0m\u001b[0m\n",
      "\u001b[1;31mTypeError\u001b[0m: string operation on non-string array"
     ]
    }
   ],
   "source": [
    "import csv\n",
    "\n",
    "with open('stim.csv') as csvfile:\n",
    "    readCSV = csv.reader(csvfile, delimiter=',')\n",
    "    stimes = []\n",
    "    skeys = []\n",
    "    for column in readCSV:\n",
    "        stime = column[0]\n",
    "        skey = column[5]\n",
    "\n",
    "        stimes.append(stime)\n",
    "        skeys.append(skey)\n",
    "        \n",
    "import csv\n",
    "\n",
    "with open('resp.csv') as csvfile:\n",
    "    readCSV = csv.reader(csvfile, delimiter=',')\n",
    "    rtimes = []\n",
    "    rkeys=[]\n",
    "    for column in readCSV:\n",
    "        rtime = column[0]\n",
    "        rkey = column[3]\n",
    "\n",
    "        rtimes.append(rtime)\n",
    "        rkeys.append(rkey)\n",
    "    responses=np.column_stack((rtimes, rkeys))\n",
    "    stimuli=np.column_stack((stimes, skeys)) #are these 2 arrays the same length? if not, why? \n",
    "                                            # I pressed a button twice! :/\n",
    "    \n",
    "    responsestrim=responses[2:172] #regardless, need to trim off space bar at start - this is not ideal as its \n",
    "    # not autonomous, perhaps could modify the phrases to be more specific\n",
    "    alldata=np.column_stack((stimuli, responsestrim))\n",
    "    \n",
    "    alldata=np.char.replace (alldata, '\\'', ' ') #these three lines search for ', \" and [                                              \n",
    "    alldata=np.char.replace (alldata, '\"', ' ')  #and remove them from the alldata array \n",
    "    alldata=np.char.replace (alldata, '[', ' ')\n",
    "    \n",
    "    \n",
    "    #---------------------------------Create PLots ----------------------------#\n",
    "\n",
    "    a = np.array(alldata[:,0], dtype=float)\n",
    "    b = np.array(alldata[:,2], dtype=float)\n",
    "    resp=[]\n",
    "    resp=b-a\n",
    "    plt.plot(a[:], resp[:])\n",
    "    plt.ylabel('response time (s)')\n",
    "    plt.xlabel('time (s)')\n",
    "    plt.title('Rsponse times as a function of trial progression')\n",
    "    \n",
    "    print alldata"
   ]
  },
  {
   "cell_type": "code",
   "execution_count": null,
   "metadata": {
    "collapsed": true
   },
   "outputs": [],
   "source": []
  },
  {
   "cell_type": "code",
   "execution_count": null,
   "metadata": {
    "collapsed": true
   },
   "outputs": [],
   "source": []
  }
 ],
 "metadata": {
  "kernelspec": {
   "display_name": "Python 2",
   "language": "python",
   "name": "python2"
  },
  "language_info": {
   "codemirror_mode": {
    "name": "ipython",
    "version": 2
   },
   "file_extension": ".py",
   "mimetype": "text/x-python",
   "name": "python",
   "nbconvert_exporter": "python",
   "pygments_lexer": "ipython2",
   "version": "2.7.13"
  }
 },
 "nbformat": 4,
 "nbformat_minor": 2
}
